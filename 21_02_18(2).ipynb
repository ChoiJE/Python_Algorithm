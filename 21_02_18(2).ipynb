{
  "nbformat": 4,
  "nbformat_minor": 0,
  "metadata": {
    "colab": {
      "name": "21/02/18(2).ipynb",
      "provenance": [],
      "authorship_tag": "ABX9TyMbbWeGIEUbLBLYoD9LkiqJ"
    },
    "kernelspec": {
      "name": "python3",
      "display_name": "Python 3"
    }
  },
  "cells": [
    {
      "cell_type": "markdown",
      "metadata": {
        "id": "EeMbL-Y5oblX"
      },
      "source": [
        "2. 큰 수의 법칙\r\n",
        "\r\n",
        "\r\n",
        "> 입력 조건\r\n",
        "\r\n",
        "- 첫째 줄에 N(2 ≤ N ≤ 1,000), M(1 ≤ M ≤ 10,000), K(1 ≤ K ≤ 10,000)의 자연수가 주어지며, 각 자연수는 공백으로 구분한다.\r\n",
        "\r\n",
        "- 둘째 줄에 N 개의 자연수가 주어진다. 각 자연수는 공백으로 구분한다. 단, 각각의 자연수는 1 이상 10,000 이하의 수로 주어진다.\r\n",
        "- 입력으로 주어지는 K는 항상 M보다 작거나 같다.\r\n",
        "\r\n",
        "> 출력 조건 \r\n",
        "\r\n",
        "- 첫째 줄에 동빈이의 큰 수의 법칙에 따라 더해진 답을 출력한다."
      ]
    },
    {
      "cell_type": "code",
      "metadata": {
        "colab": {
          "base_uri": "https://localhost:8080/"
        },
        "id": "G998CdOeoEFp",
        "outputId": "0b4f84f9-df5b-42f5-84f5-30fed6a21919"
      },
      "source": [
        "# N(배열의 크기), M(숫자가 더해지는 횟수), K(특정한 인덱스 수가 더해지는 횟수)\r\n",
        "\r\n",
        "n, m, k = map(int, input().split()) #map은 리스트의 요소를 지정된 함수로 처리해주는 함수\r\n",
        "\r\n",
        "data = list(map(int, input().split())) #list(s)는 반복 가능한 자료형 s를 입력받아 리스트로 만들어 돌려주는 함수\r\n",
        "\r\n",
        "data.sort() #data 리스트 정렬\r\n",
        "\r\n",
        "first = data[n-1] #가장 큰 수\r\n",
        "second = data[n-2] #두 번째로 큰 수 \r\n",
        "\r\n",
        "#가장 큰 수가 더해지는 횟수\r\n",
        "count = int(m / (k+1)) * k\r\n",
        "count += m % (k+1)\r\n",
        "\r\n",
        "result = 0\r\n",
        "result = first * count\r\n",
        "result = result + second * (m - count)\r\n",
        "\r\n",
        "print(result)"
      ],
      "execution_count": 2,
      "outputs": [
        {
          "output_type": "stream",
          "text": [
            "5 8 3\n",
            "2 4 5 4 6\n",
            "46\n"
          ],
          "name": "stdout"
        }
      ]
    }
  ]
}
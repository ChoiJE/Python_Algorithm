{
  "nbformat": 4,
  "nbformat_minor": 0,
  "metadata": {
    "colab": {
      "name": "21/02/18.ipynb",
      "provenance": [],
      "collapsed_sections": []
    },
    "kernelspec": {
      "name": "python3",
      "display_name": "Python 3"
    }
  },
  "cells": [
    {
      "cell_type": "markdown",
      "metadata": {
        "id": "PhMN0gUoUGHG"
      },
      "source": [
        "**오늘 새로 알게 된 점**\r\n",
        "1. // 연산자 : 나누기 연산 후 소수점 이하의 수를 버리고, 정수 부분의 수만 구함\r\n",
        "2. map 함수 : map은 리스트의 요소를 지정된 함수로 처리해주는 함수\r\n",
        "3. split 함수 : 공백을 기준으로 문자열을 나누는 함수\r\n",
        "4. list 함수 : 반복 가능한 자료형 s를 입력받아 리스트로 만들어 돌려주는 함수"
      ]
    },
    {
      "cell_type": "markdown",
      "metadata": {
        "id": "14VQehEaDfH9"
      },
      "source": [
        "수행 시간 측정 소스코드"
      ]
    },
    {
      "cell_type": "code",
      "metadata": {
        "id": "Hq7hBlGyCDqN"
      },
      "source": [
        "import time\r\n",
        "start_time = time.time() #측정시작\r\n",
        "\r\n",
        "#프로그램 소스코드\r\n",
        "\r\n",
        "end_time = time.time() #측정 종료\r\n",
        "print(\"time: \", end_time - start_time) #수행 시간 출력"
      ],
      "execution_count": null,
      "outputs": []
    },
    {
      "cell_type": "markdown",
      "metadata": {
        "id": "hov9IuZtD6nH"
      },
      "source": [
        "선택 정렬과 기본 정렬 라이브러리의 수행 시간 비교"
      ]
    },
    {
      "cell_type": "code",
      "metadata": {
        "colab": {
          "base_uri": "https://localhost:8080/"
        },
        "id": "CEPTSGEyD9p0",
        "outputId": "24484d27-6de4-4c53-cff9-b371cd2d0e97"
      },
      "source": [
        "from random import randint\r\n",
        "import time\r\n",
        "\r\n",
        "#배열에 10,000개의 정수를 삽입\r\n",
        "array = []\r\n",
        "for _ in range(10000):\r\n",
        "  array.append(randint(1,100)) #1부터 100 사이의 랜덤한 정수\r\n",
        "\r\n",
        "#선택 정렬 프로그램 성능 측정\r\n",
        "start_time = time.time()\r\n",
        "\r\n",
        "#선택 정렬 프로그램 소스코드\r\n",
        "for i in range(len(array)):\r\n",
        "  min_index = i #가장 작은 원소의 인덱스\r\n",
        "  for j in range(i+1, len(array)):\r\n",
        "    if array[min_index] > array[j]:\r\n",
        "      min_index = j\r\n",
        "    array[i], array[min_index] = array[min_index], array[i] #스와프\r\n",
        "\r\n",
        "#측정 종료\r\n",
        "end_time = time.time()\r\n",
        "print(\"선택 정렬 성능 측정: \", end_time - start_time)\r\n",
        "\r\n",
        "#기본 정렬 라이브러리 성능 측정\r\n",
        "start_time = time.time()\r\n",
        "\r\n",
        "#기본 정렬 라이브러리 사용\r\n",
        "array.sort()\r\n",
        "\r\n",
        "#측정 종료\r\n",
        "end_time = time.time()\r\n",
        "print(\"기본 정렬 라이브러리 성능 측정: \", end_time - start_time)"
      ],
      "execution_count": null,
      "outputs": [
        {
          "output_type": "stream",
          "text": [
            "선택 정렬 성능 측정:  17.013538599014282\n",
            "기본 정렬 라이브러리 성능 측정:  0.00022149085998535156\n"
          ],
          "name": "stdout"
        }
      ]
    },
    {
      "cell_type": "markdown",
      "metadata": {
        "id": "8PVjDBuOQS1u"
      },
      "source": [
        "**그리디 알고리즘**"
      ]
    },
    {
      "cell_type": "markdown",
      "metadata": {
        "id": "POBtCzelQeYA"
      },
      "source": [
        "1. 거스름돈\r\n",
        "\r\n",
        "\r\n",
        "> 당신은 음식점의 계산을 도와주는 점원이다. 카운터에는 거스름돈으로 사용할 500원, 100원, 50원, 10원짜리 동전이 무한히 존재한다고 가정한다. 손님에게 거슬러 줘야 할 돈이 N원일 때 거슬러 줘야 할 동전의 최소 개수를 구하라. 단, 거슬러 줘야할 돈 N은 항상 10의 배수이다.\r\n",
        "\r\n"
      ]
    },
    {
      "cell_type": "code",
      "metadata": {
        "colab": {
          "base_uri": "https://localhost:8080/"
        },
        "id": "bIpc23MbQdMj",
        "outputId": "43746da5-e7b4-42dc-9249-b1caba0c0f46"
      },
      "source": [
        "n = 1260\r\n",
        "count = 0\r\n",
        "\r\n",
        "list = [500, 100, 50, 10] #아래 코드 에러로 인한 주석 처리임\r\n",
        "\r\n",
        "for coin in list:\r\n",
        "  count += n // coin # // -> 나누기 연산 후 소수점 이하의 수를 버리고, 정수 부분의 수만 구함\r\n",
        "  n %= coin\r\n",
        "\r\n",
        "print(count)"
      ],
      "execution_count": null,
      "outputs": [
        {
          "output_type": "stream",
          "text": [
            "6\n"
          ],
          "name": "stdout"
        }
      ]
    }
  ]
}
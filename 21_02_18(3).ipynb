{
  "nbformat": 4,
  "nbformat_minor": 0,
  "metadata": {
    "colab": {
      "name": "21/02/18(3).ipynb",
      "provenance": [],
      "authorship_tag": "ABX9TyM8iWQ1MTh4M/4xTlWSvM18"
    },
    "kernelspec": {
      "name": "python3",
      "display_name": "Python 3"
    }
  },
  "cells": [
    {
      "cell_type": "markdown",
      "metadata": {
        "id": "AL9w7MBGy4Fh"
      },
      "source": [
        "**POINT**\r\n",
        "\r\n",
        "1. // 연산자 : 나누기 연산 후 소수점 이하의 수를 버리고, 정수 부분의 수만 구함\r\n",
        "2. map 함수 : map은 리스트의 요소를 지정된 함수로 처리해주는 함수\r\n",
        "3. split 함수 : 공백을 기준으로 문자열을 나누는 함수\r\n",
        "4. list 함수 : 반복 가능한 자료형 s를 입력받아 리스트로 만들어 돌려주는 함수"
      ]
    }
  ]
}